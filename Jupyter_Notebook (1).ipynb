{
 "cells": [
  {
   "cell_type": "markdown",
   "metadata": {},
   "source": [
    "<center>\n",
    "    <img src=\"https://cf-courses-data.s3.us.cloud-object-storage.appdomain.cloud/IBMDeveloperSkillsNetwork-DS0105EN-SkillsNetwork/labs/Module2/images/SN_web_lightmode.png\" width=\"300\" alt=\"cognitiveclass.ai logo\">\n",
    "</center>\n"
   ]
  },
  {
   "cell_type": "markdown",
   "metadata": {},
   "source": [
    "#### Add your code below following the instructions given in the course\n"
   ]
  },
  {
   "cell_type": "markdown",
   "metadata": {},
   "source": [
    "# Notebook Title"
   ]
  },
  {
   "cell_type": "markdown",
   "metadata": {},
   "source": [
    "## Introduction\n",
    "\n",
    "Welcome to this Jupyter notebook! In this notebook, we will explore various concepts and perform data analysis using Python. This introduction section provides an overview of what to expect and how to navigate through the content. Let's dive in and start our journey!\n"
   ]
  },
  {
   "cell_type": "markdown",
   "metadata": {},
   "source": [
    "## Data Science Languages\n",
    "\n",
    "- Python\n",
    "- R\n",
    "- SQL\n",
    "- Julia\n",
    "- Scala\n",
    "- Java\n",
    "- MATLAB\n",
    "- SAS\n",
    "- JavaScript"
   ]
  },
  {
   "cell_type": "markdown",
   "metadata": {},
   "source": [
    "# Data Science Libraries\n",
    "\n",
    "Here are some of the most commonly used libraries in data science:\n",
    "\n",
    "- **Python Libraries:**\n",
    "  - NumPy\n",
    "  - Pandas\n",
    "  - Matplotlib\n",
    "  - Seaborn\n",
    "  - Scikit-learn\n",
    "  - TensorFlow\n",
    "  - Keras\n",
    "  - PyTorch\n",
    "  - Statsmodels\n",
    "  - SciPy\n",
    "\n",
    "- **R Libraries:**\n",
    "  - dplyr\n",
    "  - ggplot2\n",
    "  - tidyr\n",
    "  - caret\n",
    "  - shiny\n",
    "  - lubridate\n",
    "  - forecast\n",
    "  - data.table\n",
    "  - stringr\n",
    "  - plotly\n"
   ]
  },
  {
   "cell_type": "markdown",
   "metadata": {},
   "source": [
    "# Data Science Tools\n",
    "\n",
    "Here are some popular tools used in data science:\n",
    "\n",
    "| Tool           | Description                                        |\n",
    "|----------------|----------------------------------------------------|\n",
    "| Jupyter        | An open-source web application for creating and sharing documents that contain live code, equations, visualizations, and narrative text. |\n",
    "| RStudio        | An integrated development environment (IDE) for R. |\n",
    "| Apache Spark   | An open-source unified analytics engine for large-scale data processing. |\n",
    "| Tableau        | A powerful data visualization tool used for transforming raw data into an understandable format. |\n",
    "| KNIME          | An open-source data analytics, reporting, and integration platform. |\n",
    "| RapidMiner     | A data science platform for data preparation, machine learning, and model deployment. |\n",
    "| Microsoft Excel| A spreadsheet tool that includes data analysis features. |\n",
    "| SAS            | A software suite used for advanced analytics, multivariate analysis, business intelligence, and data management. |\n",
    "| MATLAB         | A multi-paradigm programming language and numeric computing environment. |\n",
    "| Power BI       | A business analytics tool by Microsoft that provides interactive visualizations and business intelligence capabilities. |\n"
   ]
  },
  {
   "cell_type": "markdown",
   "metadata": {},
   "source": [
    "# Arithmetic Expression Examples\n",
    "\n",
    "In this section, we will demonstrate various arithmetic expressions in Python. Arithmetic expressions include operations like addition, subtraction, multiplication, division, and more.\n"
   ]
  },
  {
   "cell_type": "code",
   "execution_count": 7,
   "metadata": {
    "tags": []
   },
   "outputs": [
    {
     "name": "stdout",
     "output_type": "stream",
     "text": [
      "The product of 5 and 3 is: 15\n",
      "The sum of 5 and 3 is: 8\n"
     ]
    }
   ],
   "source": [
    "# Multiplying and adding numbers\n",
    "a = 5\n",
    "b = 3\n",
    "\n",
    "# Multiplication\n",
    "product = a * b\n",
    "print(\"The product of\", a, \"and\", b, \"is:\", product)\n",
    "\n",
    "# Addition\n",
    "sum_result = a + b\n",
    "print(\"The sum of\", a, \"and\", b, \"is:\", sum_result)\n"
   ]
  },
  {
   "cell_type": "code",
   "execution_count": 8,
   "metadata": {
    "tags": []
   },
   "outputs": [
    {
     "name": "stdout",
     "output_type": "stream",
     "text": [
      "150 minutes is equal to 2.5 hours.\n"
     ]
    }
   ],
   "source": [
    "# Converting minutes to hours\n",
    "\n",
    "# Define the number of minutes\n",
    "minutes = 150\n",
    "\n",
    "# Convert minutes to hours\n",
    "hours = minutes / 60\n",
    "\n",
    "# Print the result\n",
    "print(f\"{minutes} minutes is equal to {hours} hours.\")\n"
   ]
  },
  {
   "cell_type": "markdown",
   "metadata": {
    "tags": []
   },
   "source": [
    "# Objectives\n",
    "\n",
    "In this notebook, we aim to achieve the following objectives:\n",
    "\n",
    "- Explore basic arithmetic operations in Python.\n",
    "- Convert units of time (minutes to hours) using Python.\n",
    "- Introduce and demonstrate the use of markdown cells for documentation.\n",
    "- Familiarize with creating and running code cells in Jupyter notebooks.\n"
   ]
  },
  {
   "cell_type": "markdown",
   "metadata": {
    "tags": []
   },
   "source": [
    "# Author\n",
    "\n",
    "- **Author:** Javis Otieno\n",
    "- **Date:** 02/07/2024\n"
   ]
  },
  {
   "cell_type": "code",
   "execution_count": null,
   "metadata": {},
   "outputs": [],
   "source": []
  }
 ],
 "metadata": {
  "kernelspec": {
   "display_name": "Python",
   "language": "python",
   "name": "conda-env-python-py"
  },
  "language_info": {
   "codemirror_mode": {
    "name": "ipython",
    "version": 3
   },
   "file_extension": ".py",
   "mimetype": "text/x-python",
   "name": "python",
   "nbconvert_exporter": "python",
   "pygments_lexer": "ipython3",
   "version": "3.7.12"
  }
 },
 "nbformat": 4,
 "nbformat_minor": 4
}
